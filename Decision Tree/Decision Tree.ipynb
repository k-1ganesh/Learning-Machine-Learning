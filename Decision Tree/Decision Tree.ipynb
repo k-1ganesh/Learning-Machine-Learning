{
 "cells": [
  {
   "cell_type": "code",
   "execution_count": 1,
   "id": "6e24ce93-ebb9-42c9-b0c6-4a959b9e5e21",
   "metadata": {},
   "outputs": [],
   "source": [
    "import numpy as np \n",
    "import pandas as pd\n",
    "import matplotlib.pyplot as plt\n",
    "import seaborn as sns"
   ]
  },
  {
   "cell_type": "markdown",
   "id": "5163913d-4ac6-454d-95fc-64c7b15f2be2",
   "metadata": {},
   "source": [
    "### Importing the Data"
   ]
  },
  {
   "cell_type": "code",
   "execution_count": 47,
   "id": "3cf8f458-4d37-4f92-8ad8-401ac3038bcd",
   "metadata": {},
   "outputs": [],
   "source": [
    "df = pd.read_csv('Downloads/dataset/drug200.csv')"
   ]
  },
  {
   "cell_type": "markdown",
   "id": "2d722404-1255-4b8f-a5c2-74cc58677e42",
   "metadata": {},
   "source": [
    "### Data Preprocessing"
   ]
  },
  {
   "cell_type": "code",
   "execution_count": 21,
   "id": "394e7239-2e5d-42af-93fb-afe1fa05ecde",
   "metadata": {},
   "outputs": [],
   "source": [
    "from sklearn.preprocessing import LabelEncoder"
   ]
  },
  {
   "cell_type": "code",
   "execution_count": 48,
   "id": "263bc723-ec28-42e1-b161-8dec4be7b8c2",
   "metadata": {},
   "outputs": [],
   "source": [
    "df['Sex'] = df['Sex'].replace({'F':0 , 'M':1})"
   ]
  },
  {
   "cell_type": "code",
   "execution_count": 22,
   "id": "02fea83b-0693-4b71-a49b-06f372c0c18b",
   "metadata": {},
   "outputs": [],
   "source": [
    "label = LabelEncoder()"
   ]
  },
  {
   "cell_type": "code",
   "execution_count": 49,
   "id": "fc72c8fc-69d8-46bc-8d50-6505512af1a3",
   "metadata": {},
   "outputs": [],
   "source": [
    "df['BP'] = label.fit_transform(df['BP'])"
   ]
  },
  {
   "cell_type": "code",
   "execution_count": 50,
   "id": "35108c57-84ec-42f2-af98-c08e7bc3e482",
   "metadata": {},
   "outputs": [],
   "source": [
    "df['Cholesterol'] = label.transform(df['Cholesterol'])"
   ]
  },
  {
   "cell_type": "code",
   "execution_count": 51,
   "id": "3e0dd540-ff2e-4d79-b7f5-663519daaab3",
   "metadata": {},
   "outputs": [],
   "source": [
    "df['Drug'] = label.fit_transform(df['Drug'])"
   ]
  },
  {
   "cell_type": "markdown",
   "id": "f5c6e113-ef59-4383-b96b-8b40d14dc8b8",
   "metadata": {},
   "source": [
    "### Scaling Data"
   ]
  },
  {
   "cell_type": "code",
   "execution_count": 41,
   "id": "331fee81-3638-4e48-b2df-2e13be443574",
   "metadata": {},
   "outputs": [],
   "source": [
    "from sklearn.preprocessing import StandardScaler"
   ]
  },
  {
   "cell_type": "code",
   "execution_count": 42,
   "id": "cab79e7f-163d-45f6-99a9-15718b29c5f6",
   "metadata": {},
   "outputs": [],
   "source": [
    "scaler = StandardScaler()"
   ]
  },
  {
   "cell_type": "code",
   "execution_count": 80,
   "id": "8a63bf91-487a-4fa9-9615-e68669d73436",
   "metadata": {},
   "outputs": [],
   "source": [
    "X = df.drop(columns = \"Drug\")"
   ]
  },
  {
   "cell_type": "code",
   "execution_count": 82,
   "id": "dad91c92-aaf0-464e-8305-28fe61b3cf19",
   "metadata": {},
   "outputs": [],
   "source": [
    "y = df[\"Drug\"]"
   ]
  },
  {
   "cell_type": "code",
   "execution_count": 85,
   "id": "37f0c09f-9e8c-4eaa-94d8-7219060858eb",
   "metadata": {},
   "outputs": [],
   "source": [
    "X = scaler.fit_transform(X)"
   ]
  },
  {
   "cell_type": "markdown",
   "id": "b9e47d0b-8f04-4e34-b3b6-f73740ba9857",
   "metadata": {},
   "source": [
    "### Cross Validation"
   ]
  },
  {
   "cell_type": "code",
   "execution_count": 64,
   "id": "ae8eb780-99c6-4646-abf5-3823510fb778",
   "metadata": {},
   "outputs": [],
   "source": [
    "from sklearn.model_selection import train_test_split"
   ]
  },
  {
   "cell_type": "code",
   "execution_count": 86,
   "id": "a229efab-cdcb-4674-994e-59b169dab80c",
   "metadata": {},
   "outputs": [],
   "source": [
    "X_train,X_test , y_train,y_test = train_test_split(X ,y, test_size = 0.2 , random_state = 42)"
   ]
  },
  {
   "cell_type": "markdown",
   "id": "97a321a2-692d-4777-9685-26b98bb28613",
   "metadata": {},
   "source": [
    "### Training Decision Tree"
   ]
  },
  {
   "cell_type": "code",
   "execution_count": 62,
   "id": "2015b684-15d3-4c76-be61-d58e3abd9473",
   "metadata": {},
   "outputs": [],
   "source": [
    "from sklearn.tree import DecisionTreeClassifier"
   ]
  },
  {
   "cell_type": "code",
   "execution_count": 63,
   "id": "2eeeadd8-989c-48d1-938c-2c51f9fa816c",
   "metadata": {},
   "outputs": [],
   "source": [
    "model = DecisionTreeClassifier()"
   ]
  },
  {
   "cell_type": "code",
   "execution_count": 89,
   "id": "613e55d5-326a-436f-a8f5-c396a2d3bf3b",
   "metadata": {},
   "outputs": [
    {
     "data": {
      "text/html": [
       "<style>#sk-container-id-2 {color: black;background-color: white;}#sk-container-id-2 pre{padding: 0;}#sk-container-id-2 div.sk-toggleable {background-color: white;}#sk-container-id-2 label.sk-toggleable__label {cursor: pointer;display: block;width: 100%;margin-bottom: 0;padding: 0.3em;box-sizing: border-box;text-align: center;}#sk-container-id-2 label.sk-toggleable__label-arrow:before {content: \"▸\";float: left;margin-right: 0.25em;color: #696969;}#sk-container-id-2 label.sk-toggleable__label-arrow:hover:before {color: black;}#sk-container-id-2 div.sk-estimator:hover label.sk-toggleable__label-arrow:before {color: black;}#sk-container-id-2 div.sk-toggleable__content {max-height: 0;max-width: 0;overflow: hidden;text-align: left;background-color: #f0f8ff;}#sk-container-id-2 div.sk-toggleable__content pre {margin: 0.2em;color: black;border-radius: 0.25em;background-color: #f0f8ff;}#sk-container-id-2 input.sk-toggleable__control:checked~div.sk-toggleable__content {max-height: 200px;max-width: 100%;overflow: auto;}#sk-container-id-2 input.sk-toggleable__control:checked~label.sk-toggleable__label-arrow:before {content: \"▾\";}#sk-container-id-2 div.sk-estimator input.sk-toggleable__control:checked~label.sk-toggleable__label {background-color: #d4ebff;}#sk-container-id-2 div.sk-label input.sk-toggleable__control:checked~label.sk-toggleable__label {background-color: #d4ebff;}#sk-container-id-2 input.sk-hidden--visually {border: 0;clip: rect(1px 1px 1px 1px);clip: rect(1px, 1px, 1px, 1px);height: 1px;margin: -1px;overflow: hidden;padding: 0;position: absolute;width: 1px;}#sk-container-id-2 div.sk-estimator {font-family: monospace;background-color: #f0f8ff;border: 1px dotted black;border-radius: 0.25em;box-sizing: border-box;margin-bottom: 0.5em;}#sk-container-id-2 div.sk-estimator:hover {background-color: #d4ebff;}#sk-container-id-2 div.sk-parallel-item::after {content: \"\";width: 100%;border-bottom: 1px solid gray;flex-grow: 1;}#sk-container-id-2 div.sk-label:hover label.sk-toggleable__label {background-color: #d4ebff;}#sk-container-id-2 div.sk-serial::before {content: \"\";position: absolute;border-left: 1px solid gray;box-sizing: border-box;top: 0;bottom: 0;left: 50%;z-index: 0;}#sk-container-id-2 div.sk-serial {display: flex;flex-direction: column;align-items: center;background-color: white;padding-right: 0.2em;padding-left: 0.2em;position: relative;}#sk-container-id-2 div.sk-item {position: relative;z-index: 1;}#sk-container-id-2 div.sk-parallel {display: flex;align-items: stretch;justify-content: center;background-color: white;position: relative;}#sk-container-id-2 div.sk-item::before, #sk-container-id-2 div.sk-parallel-item::before {content: \"\";position: absolute;border-left: 1px solid gray;box-sizing: border-box;top: 0;bottom: 0;left: 50%;z-index: -1;}#sk-container-id-2 div.sk-parallel-item {display: flex;flex-direction: column;z-index: 1;position: relative;background-color: white;}#sk-container-id-2 div.sk-parallel-item:first-child::after {align-self: flex-end;width: 50%;}#sk-container-id-2 div.sk-parallel-item:last-child::after {align-self: flex-start;width: 50%;}#sk-container-id-2 div.sk-parallel-item:only-child::after {width: 0;}#sk-container-id-2 div.sk-dashed-wrapped {border: 1px dashed gray;margin: 0 0.4em 0.5em 0.4em;box-sizing: border-box;padding-bottom: 0.4em;background-color: white;}#sk-container-id-2 div.sk-label label {font-family: monospace;font-weight: bold;display: inline-block;line-height: 1.2em;}#sk-container-id-2 div.sk-label-container {text-align: center;}#sk-container-id-2 div.sk-container {/* jupyter's `normalize.less` sets `[hidden] { display: none; }` but bootstrap.min.css set `[hidden] { display: none !important; }` so we also need the `!important` here to be able to override the default hidden behavior on the sphinx rendered scikit-learn.org. See: https://github.com/scikit-learn/scikit-learn/issues/21755 */display: inline-block !important;position: relative;}#sk-container-id-2 div.sk-text-repr-fallback {display: none;}</style><div id=\"sk-container-id-2\" class=\"sk-top-container\"><div class=\"sk-text-repr-fallback\"><pre>DecisionTreeClassifier()</pre><b>In a Jupyter environment, please rerun this cell to show the HTML representation or trust the notebook. <br />On GitHub, the HTML representation is unable to render, please try loading this page with nbviewer.org.</b></div><div class=\"sk-container\" hidden><div class=\"sk-item\"><div class=\"sk-estimator sk-toggleable\"><input class=\"sk-toggleable__control sk-hidden--visually\" id=\"sk-estimator-id-2\" type=\"checkbox\" checked><label for=\"sk-estimator-id-2\" class=\"sk-toggleable__label sk-toggleable__label-arrow\">DecisionTreeClassifier</label><div class=\"sk-toggleable__content\"><pre>DecisionTreeClassifier()</pre></div></div></div></div></div>"
      ],
      "text/plain": [
       "DecisionTreeClassifier()"
      ]
     },
     "execution_count": 89,
     "metadata": {},
     "output_type": "execute_result"
    }
   ],
   "source": [
    "model.fit(X_train,y_train)"
   ]
  },
  {
   "cell_type": "code",
   "execution_count": 92,
   "id": "b8f5db7b-36f7-4a80-9056-15d0308b323a",
   "metadata": {},
   "outputs": [],
   "source": [
    "prediction = model.predict(X_test)"
   ]
  },
  {
   "cell_type": "code",
   "execution_count": 93,
   "id": "b5aabe32-f27c-4d0f-8633-984f4f2779b8",
   "metadata": {},
   "outputs": [],
   "source": [
    "from sklearn.metrics import accuracy_score"
   ]
  },
  {
   "cell_type": "code",
   "execution_count": 94,
   "id": "38d28e31-a85d-4cba-bc54-a7d0c9a88c15",
   "metadata": {},
   "outputs": [
    {
     "data": {
      "text/plain": [
       "1.0"
      ]
     },
     "execution_count": 94,
     "metadata": {},
     "output_type": "execute_result"
    }
   ],
   "source": [
    "accuracy_score(y_test , prediction)"
   ]
  },
  {
   "cell_type": "code",
   "execution_count": 95,
   "id": "a000892c-52bf-4858-8ac4-058f0f15a4fb",
   "metadata": {},
   "outputs": [],
   "source": [
    "from sklearn.tree import plot_tree"
   ]
  },
  {
   "cell_type": "code",
   "execution_count": 97,
   "id": "5b7f4d6a-8abb-46be-8178-705c23561589",
   "metadata": {},
   "outputs": [
    {
     "data": {
      "text/plain": [
       "[Text(0.625, 0.9, 'x[4] <= -0.174\\ngini = 0.68\\nsamples = 160\\nvalue = [17, 13, 11, 43, 76]'),\n",
       " Text(0.5, 0.7, 'x[2] <= -0.5\\ngini = 0.656\\nsamples = 84\\nvalue = [17, 13, 11, 43, 0]'),\n",
       " Text(0.25, 0.5, 'x[0] <= 0.375\\ngini = 0.491\\nsamples = 30\\nvalue = [17, 13, 0, 0, 0]'),\n",
       " Text(0.125, 0.3, 'gini = 0.0\\nsamples = 17\\nvalue = [17, 0, 0, 0, 0]'),\n",
       " Text(0.375, 0.3, 'gini = 0.0\\nsamples = 13\\nvalue = [0, 13, 0, 0, 0]'),\n",
       " Text(0.75, 0.5, 'x[2] <= 0.72\\ngini = 0.324\\nsamples = 54\\nvalue = [0, 0, 11, 43, 0]'),\n",
       " Text(0.625, 0.3, 'x[3] <= 0.03\\ngini = 0.499\\nsamples = 23\\nvalue = [0, 0, 11, 12, 0]'),\n",
       " Text(0.5, 0.1, 'gini = 0.0\\nsamples = 11\\nvalue = [0, 0, 11, 0, 0]'),\n",
       " Text(0.75, 0.1, 'gini = 0.0\\nsamples = 12\\nvalue = [0, 0, 0, 12, 0]'),\n",
       " Text(0.875, 0.3, 'gini = 0.0\\nsamples = 31\\nvalue = [0, 0, 0, 31, 0]'),\n",
       " Text(0.75, 0.7, 'gini = 0.0\\nsamples = 76\\nvalue = [0, 0, 0, 0, 76]')]"
      ]
     },
     "execution_count": 97,
     "metadata": {},
     "output_type": "execute_result"
    },
    {
     "data": {
      "image/png": "[encoded data removed]",
      "text/plain": [
       "<Figure size 640x480 with 1 Axes>"
      ]
     },
     "metadata": {},
     "output_type": "display_data"
    }
   ],
   "source": [
    "plot_tree(model,filled = True)"
   ]
  },
  {
   "cell_type": "code",
   "execution_count": null,
   "id": "43d8a5eb-6a82-487d-a63c-60931c49962e",
   "metadata": {},
   "outputs": [],
   "source": []
  }
 ],
 "metadata": {
  "kernelspec": {
   "display_name": "Python 3 (ipykernel)",
   "language": "python",
   "name": "python3"
  },
  "language_info": {
   "codemirror_mode": {
    "name": "ipython",
    "version": 3
   },
   "file_extension": ".py",
   "mimetype": "text/x-python",
   "name": "python",
   "nbconvert_exporter": "python",
   "pygments_lexer": "ipython3",
   "version": "3.11.7"
  }
 },
 "nbformat": 4,
 "nbformat_minor": 5
}
