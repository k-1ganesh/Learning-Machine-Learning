{
 "cells": [
  {
   "cell_type": "code",
   "execution_count": 25,
   "id": "5ae61411-18e0-4c72-8e92-bd4a224b9438",
   "metadata": {},
   "outputs": [],
   "source": [
    "import numpy as np"
   ]
  },
  {
   "cell_type": "code",
   "execution_count": 26,
   "id": "149ba909-a18a-4f68-b1e0-0d0393d1d2f7",
   "metadata": {},
   "outputs": [
    {
     "data": {
      "text/plain": [
       "'1.26.4'"
      ]
     },
     "execution_count": 26,
     "metadata": {},
     "output_type": "execute_result"
    }
   ],
   "source": [
    "np.__version__"
   ]
  },
  {
   "cell_type": "markdown",
   "id": "0bebc602-60bc-48e9-a409-8aed6638d644",
   "metadata": {},
   "source": [
    "Converting python list into numpy array"
   ]
  },
  {
   "cell_type": "code",
   "execution_count": 27,
   "id": "3fb77c99-0ad2-4e54-85a4-3d4d2298b4d9",
   "metadata": {},
   "outputs": [],
   "source": [
    "list1 = [1,2,3,4]\n"
   ]
  },
  {
   "cell_type": "code",
   "execution_count": 28,
   "id": "e053a278-4c39-454f-a388-fcb5425a370b",
   "metadata": {},
   "outputs": [],
   "source": [
    "import numpy as np"
   ]
  },
  {
   "cell_type": "code",
   "execution_count": 29,
   "id": "6e628746-75b9-484b-b0c8-a0da50006591",
   "metadata": {},
   "outputs": [
    {
     "data": {
      "text/plain": [
       "array([1, 2, 3, 4])"
      ]
     },
     "execution_count": 29,
     "metadata": {},
     "output_type": "execute_result"
    }
   ],
   "source": [
    "np.array(list1)"
   ]
  },
  {
   "cell_type": "code",
   "execution_count": 30,
   "id": "377543d4-c317-40ab-95c0-c8f94c5a35fc",
   "metadata": {},
   "outputs": [
    {
     "data": {
      "text/plain": [
       "array([[1, 3],\n",
       "       [2, 4]])"
      ]
     },
     "execution_count": 30,
     "metadata": {},
     "output_type": "execute_result"
    }
   ],
   "source": [
    "matrix = [ [1,3] , [2,4] ] \n",
    "np.array(matrix)"
   ]
  },
  {
   "cell_type": "markdown",
   "id": "db39f58f-db8b-4306-a6a1-dc8ce6d408ad",
   "metadata": {},
   "source": [
    "Creating numpy array from range function  \n"
   ]
  },
  {
   "cell_type": "markdown",
   "id": "e0619cb9-080d-43a2-9a29-c0f35dc2064b",
   "metadata": {},
   "source": [
    "np.arange(start,end,step_size)\n"
   ]
  },
  {
   "cell_type": "code",
   "execution_count": 31,
   "id": "98821e38-9ac8-4435-ab87-f8e8cac814ba",
   "metadata": {},
   "outputs": [
    {
     "name": "stdout",
     "output_type": "stream",
     "text": [
      "[0 2 4 6 8]\n"
     ]
    }
   ],
   "source": [
    "arr = np.arange(0,10,2)\n",
    "print(arr)"
   ]
  },
  {
   "cell_type": "code",
   "execution_count": 32,
   "id": "2743c075-3a54-43fd-8d69-f59eaea62b8e",
   "metadata": {},
   "outputs": [
    {
     "data": {
      "text/plain": [
       "array([0, 2, 4, 6, 8])"
      ]
     },
     "execution_count": 32,
     "metadata": {},
     "output_type": "execute_result"
    }
   ],
   "source": [
    "arr"
   ]
  },
  {
   "cell_type": "code",
   "execution_count": 33,
   "id": "2465ee1e-d54b-4a4c-8eee-45f8c6c5dbfd",
   "metadata": {},
   "outputs": [
    {
     "name": "stdout",
     "output_type": "stream",
     "text": [
      "[0 1 2 3 4 5 6 7 8 9]\n"
     ]
    }
   ],
   "source": [
    "arr = np.arange(0,10)\n",
    "print(arr)"
   ]
  },
  {
   "cell_type": "raw",
   "id": "cb1aa6d6-eb1d-4779-ad13-2b2fb684ebac",
   "metadata": {},
   "source": []
  },
  {
   "cell_type": "markdown",
   "id": "c0ed4b35-5489-4b9c-953e-c80200641cbe",
   "metadata": {},
   "source": [
    "Creating array of zeros and ones"
   ]
  },
  {
   "cell_type": "code",
   "execution_count": 34,
   "id": "c6ea193f-31db-4a7d-8006-2d969992eac5",
   "metadata": {},
   "outputs": [
    {
     "name": "stdout",
     "output_type": "stream",
     "text": [
      "[0. 0. 0. 0. 0.]\n"
     ]
    }
   ],
   "source": [
    "arr  = np.zeros(5)\n",
    "print(arr)"
   ]
  },
  {
   "cell_type": "code",
   "execution_count": 35,
   "id": "bea6f35d-73b9-4334-8121-7d32a262f99f",
   "metadata": {},
   "outputs": [
    {
     "name": "stdout",
     "output_type": "stream",
     "text": [
      "[[0. 0. 0. 0. 0.]\n",
      " [0. 0. 0. 0. 0.]\n",
      " [0. 0. 0. 0. 0.]\n",
      " [0. 0. 0. 0. 0.]\n",
      " [0. 0. 0. 0. 0.]]\n"
     ]
    }
   ],
   "source": [
    "arr = np.zeros((5,5))\n",
    "print(arr)"
   ]
  },
  {
   "cell_type": "code",
   "execution_count": 36,
   "id": "f2287848-ab9a-45e8-a465-54131cec3c99",
   "metadata": {},
   "outputs": [
    {
     "name": "stdout",
     "output_type": "stream",
     "text": [
      "[1. 1. 1. 1. 1.]\n"
     ]
    }
   ],
   "source": [
    "arr = np.ones(5)\n",
    "print(arr)"
   ]
  },
  {
   "cell_type": "code",
   "execution_count": 37,
   "id": "8c85f705-244f-4463-a4c1-c520888087dc",
   "metadata": {},
   "outputs": [
    {
     "name": "stdout",
     "output_type": "stream",
     "text": [
      "[[1. 1. 1. 1. 1.]\n",
      " [1. 1. 1. 1. 1.]\n",
      " [1. 1. 1. 1. 1.]\n",
      " [1. 1. 1. 1. 1.]\n",
      " [1. 1. 1. 1. 1.]]\n"
     ]
    }
   ],
   "source": [
    "arr = np.ones((5,5))\n",
    "print(arr)"
   ]
  },
  {
   "cell_type": "code",
   "execution_count": null,
   "id": "7d89374c-bd58-4edc-a293-03e0f31a2b4c",
   "metadata": {},
   "outputs": [],
   "source": []
  },
  {
   "cell_type": "markdown",
   "id": "463bb2d0-f3c9-4fc1-a30c-32dcd5a85c2b",
   "metadata": {},
   "source": [
    "creating array with evenly spacing among the elements"
   ]
  },
  {
   "cell_type": "markdown",
   "id": "083fc597-64da-4865-b24e-147df1e09e59",
   "metadata": {},
   "source": [
    "np.linspace(start,end,total_ele)"
   ]
  },
  {
   "cell_type": "code",
   "execution_count": 38,
   "id": "03f308ea-a912-4e8b-8e43-33c694ee183b",
   "metadata": {},
   "outputs": [
    {
     "name": "stdout",
     "output_type": "stream",
     "text": [
      "[ 0.   2.5  5.   7.5 10. ]\n"
     ]
    }
   ],
   "source": [
    "arr = np.linspace(0,10,5)\n",
    "print(arr)"
   ]
  },
  {
   "cell_type": "code",
   "execution_count": 39,
   "id": "00d7e007-02eb-4eef-b645-cfc1a2d7f376",
   "metadata": {},
   "outputs": [
    {
     "name": "stdout",
     "output_type": "stream",
     "text": [
      "[ 0.  5. 10.]\n"
     ]
    }
   ],
   "source": [
    "arr = np.linspace(0,10,3)\n",
    "print(arr)"
   ]
  },
  {
   "cell_type": "code",
   "execution_count": null,
   "id": "2c87a9c2-15d0-4fe0-83d4-3f266d8d4e50",
   "metadata": {},
   "outputs": [],
   "source": []
  },
  {
   "cell_type": "markdown",
   "id": "c290d6d9-3124-49d5-86d4-3b17381ff20e",
   "metadata": {},
   "source": [
    "Identity Matrix\n"
   ]
  },
  {
   "cell_type": "code",
   "execution_count": 40,
   "id": "d43e0d63-37b4-432e-9f64-a8402c03bcd1",
   "metadata": {},
   "outputs": [
    {
     "name": "stdout",
     "output_type": "stream",
     "text": [
      "[[1. 0. 0.]\n",
      " [0. 1. 0.]\n",
      " [0. 0. 1.]]\n"
     ]
    }
   ],
   "source": [
    "arr = np.eye(3)\n",
    "print(arr)"
   ]
  },
  {
   "cell_type": "code",
   "execution_count": null,
   "id": "2b5df9b4-9c07-4533-884e-97dc7e543e7a",
   "metadata": {},
   "outputs": [],
   "source": []
  },
  {
   "cell_type": "markdown",
   "id": "c11d613f-bde1-4836-ab8c-d14e7f25be48",
   "metadata": {},
   "source": [
    "Random Functions"
   ]
  },
  {
   "cell_type": "markdown",
   "id": "f3cfb1d9-b3a1-4dc1-9084-1fbc204f35b9",
   "metadata": {},
   "source": [
    "Difference between rand and randn ?"
   ]
  },
  {
   "cell_type": "markdown",
   "id": "d681341d-1531-48fb-a671-1aaf00fe5ff6",
   "metadata": {},
   "source": [
    "**rand <- uniform distribution [0,1)\n",
    "**randn <- std normal distribution (mean=0 , var=1)"
   ]
  },
  {
   "cell_type": "code",
   "execution_count": 41,
   "id": "7a79d572-d9e5-4bd6-8b47-bcaabf4e615a",
   "metadata": {},
   "outputs": [
    {
     "name": "stdout",
     "output_type": "stream",
     "text": [
      "[0.33002653 0.34232829 0.803262   0.22788199 0.8206624 ]\n"
     ]
    }
   ],
   "source": [
    "arr = np.random.rand(5)\n",
    "print(arr)"
   ]
  },
  {
   "cell_type": "code",
   "execution_count": 42,
   "id": "7602466d-9e7b-4929-b022-ce8e0cf5ffa3",
   "metadata": {},
   "outputs": [
    {
     "name": "stdout",
     "output_type": "stream",
     "text": [
      "[-0.01843206 -0.96397478  1.29147827  1.09477376  1.19721595]\n"
     ]
    }
   ],
   "source": [
    "arr = np.random.randn(5)\n",
    "print(arr)"
   ]
  },
  {
   "cell_type": "code",
   "execution_count": 43,
   "id": "8f2d5ec4-27c3-4f55-952d-9d707a220d2a",
   "metadata": {},
   "outputs": [
    {
     "name": "stdout",
     "output_type": "stream",
     "text": [
      "[[0.85184977 0.16232743 0.02637372]\n",
      " [0.98717365 0.19095748 0.15034773]\n",
      " [0.63272102 0.85930497 0.9551549 ]]\n"
     ]
    }
   ],
   "source": [
    "arr = np.random.rand(3,3)\n",
    "print(arr)"
   ]
  },
  {
   "cell_type": "code",
   "execution_count": 44,
   "id": "8cfe94b8-3787-4a6a-bdd7-b9e2042e240d",
   "metadata": {},
   "outputs": [
    {
     "name": "stdout",
     "output_type": "stream",
     "text": [
      "[38 80  9 63 17 65  1 99  4 79]\n"
     ]
    }
   ],
   "source": [
    "arr = np.random.randint(0,100,10)\n",
    "print(arr)"
   ]
  },
  {
   "cell_type": "code",
   "execution_count": 45,
   "id": "76e82875-5c11-4f02-ae2c-fb6f2eca117e",
   "metadata": {},
   "outputs": [
    {
     "data": {
      "text/plain": [
       "455"
      ]
     },
     "execution_count": 45,
     "metadata": {},
     "output_type": "execute_result"
    }
   ],
   "source": [
    "arr.sum()"
   ]
  },
  {
   "cell_type": "code",
   "execution_count": 46,
   "id": "b02be5a2-7261-421b-809e-c8631302bdf2",
   "metadata": {},
   "outputs": [
    {
     "data": {
      "text/plain": [
       "99"
      ]
     },
     "execution_count": 46,
     "metadata": {},
     "output_type": "execute_result"
    }
   ],
   "source": [
    "arr.max()"
   ]
  },
  {
   "cell_type": "code",
   "execution_count": 47,
   "id": "b71cc9c2-64e6-4e39-9f82-772afff8d10d",
   "metadata": {},
   "outputs": [
    {
     "data": {
      "text/plain": [
       "1"
      ]
     },
     "execution_count": 47,
     "metadata": {},
     "output_type": "execute_result"
    }
   ],
   "source": [
    "arr.min()"
   ]
  },
  {
   "cell_type": "code",
   "execution_count": 48,
   "id": "c2dab8a1-24df-4372-b186-7ec5e44239cc",
   "metadata": {},
   "outputs": [
    {
     "data": {
      "text/plain": [
       "7"
      ]
     },
     "execution_count": 48,
     "metadata": {},
     "output_type": "execute_result"
    }
   ],
   "source": [
    "arr.argmax()\n",
    "#gives the index of max ele"
   ]
  },
  {
   "cell_type": "code",
   "execution_count": 49,
   "id": "d35b2906-e696-4745-9c09-359d1f976292",
   "metadata": {},
   "outputs": [
    {
     "data": {
      "text/plain": [
       "6"
      ]
     },
     "execution_count": 49,
     "metadata": {},
     "output_type": "execute_result"
    }
   ],
   "source": [
    "arr.argmin()\n",
    "#gives the index of min ele"
   ]
  },
  {
   "cell_type": "code",
   "execution_count": 36,
   "id": "87c0fa31-98d0-48be-a3b6-5b65d251a2db",
   "metadata": {},
   "outputs": [
    {
     "name": "stdout",
     "output_type": "stream",
     "text": [
      "[[58 70 16 64 85]\n",
      " [51 43 10 10 98]\n",
      " [80 51 27 68  6]]\n"
     ]
    }
   ],
   "source": [
    "arr = np.random.randint(0,100,(3,5))\n",
    "print(arr)"
   ]
  },
  {
   "cell_type": "markdown",
   "id": "9dbb91ee-b68b-4bfe-b972-0c2b53e93c4d",
   "metadata": {},
   "source": [
    "# Indexing and slicing       \n"
   ]
  },
  {
   "cell_type": "markdown",
   "id": "22d8aefb-65ba-4dc8-b311-9f35c34163e1",
   "metadata": {},
   "source": [
    "#### Broadcasting  "
   ]
  },
  {
   "cell_type": "markdown",
   "id": "afd964a2-6159-419c-a69e-20f15438b9e5",
   "metadata": {},
   "source": [
    "It works like call by referece"
   ]
  },
  {
   "cell_type": "code",
   "execution_count": 50,
   "id": "302c457e-a340-4219-beac-05512ad01443",
   "metadata": {},
   "outputs": [
    {
     "name": "stdout",
     "output_type": "stream",
     "text": [
      "[ 0  1  2  3  4  5  6  7  8  9 10]\n",
      "[0 1 2 1 1 1 1 1 1 1 1]\n"
     ]
    }
   ],
   "source": [
    "l1 = np.arange(0,11)\n",
    "print(l1)\n",
    "l2 = l1[3:]\n",
    "l2[0:] = 1\n",
    "print(l1)"
   ]
  },
  {
   "cell_type": "code",
   "execution_count": 51,
   "id": "7f75042d-fc6e-41fd-86c9-e1c0de7a4787",
   "metadata": {},
   "outputs": [
    {
     "name": "stdout",
     "output_type": "stream",
     "text": [
      "[ 0  1  2  3  4  5  6  7  8  9 10]\n",
      "[0 1 2 5 5 5 5 5 5 5 5]\n"
     ]
    }
   ],
   "source": [
    "l1 = np.arange(0,11)\n",
    "print(l1)\n",
    "l1[3:] = 5\n",
    "print(l1)"
   ]
  },
  {
   "cell_type": "markdown",
   "id": "38c2d116-ae6e-4bd0-81f9-f336560b6b25",
   "metadata": {},
   "source": [
    "#### Conditional selection "
   ]
  },
  {
   "cell_type": "markdown",
   "id": "2afe9911-0cb1-4312-a93d-f863ef4d809c",
   "metadata": {},
   "source": [
    "Its a way to apply condition on array and then filter the array elements according to the condition"
   ]
  },
  {
   "cell_type": "code",
   "execution_count": 54,
   "id": "e910c75b-c436-47c5-9fe0-d83111831822",
   "metadata": {},
   "outputs": [
    {
     "name": "stdout",
     "output_type": "stream",
     "text": [
      "[False False False False False False False False False False False  True\n",
      "  True  True  True  True  True  True  True  True]\n",
      "[11 12 13 14 15 16 17 18 19]\n"
     ]
    }
   ],
   "source": [
    "arr = np.arange(0,20)\n",
    "bool_arr = arr > 10\n",
    "print(bool_arr)\n",
    "print(arr[bool_arr])"
   ]
  },
  {
   "cell_type": "code",
   "execution_count": 2,
   "id": "3fe63d9a-03aa-49e7-a66a-bf089aeb191a",
   "metadata": {},
   "outputs": [
    {
     "name": "stdout",
     "output_type": "stream",
     "text": [
      "['1' '3' '4']\n"
     ]
    }
   ],
   "source": [
    "import numpy as np\n",
    "a1 = [1,3,'4']\n",
    "print(np.array(a1))"
   ]
  },
  {
   "cell_type": "code",
   "execution_count": 5,
   "id": "c738d8e8-23dc-438b-aedd-79b82b6bd9d9",
   "metadata": {},
   "outputs": [
    {
     "name": "stdout",
     "output_type": "stream",
     "text": [
      "<class 'int'>\n"
     ]
    }
   ],
   "source": [
    "print(type(a1[1]))"
   ]
  },
  {
   "cell_type": "code",
   "execution_count": 6,
   "id": "734414fd-9850-4f9d-ae13-aee19c249257",
   "metadata": {},
   "outputs": [
    {
     "name": "stdout",
     "output_type": "stream",
     "text": [
      "[0 1 2 3]\n"
     ]
    }
   ],
   "source": [
    "a1 = np.arange(0,4)\n",
    "print(a1)"
   ]
  },
  {
   "cell_type": "code",
   "execution_count": 37,
   "id": "3a248046-9854-4848-805f-408b09b476e5",
   "metadata": {},
   "outputs": [
    {
     "name": "stdout",
     "output_type": "stream",
     "text": [
      "[[0 1]\n",
      " [2 3]]\n",
      "[[0 1]\n",
      " [2 3]]\n"
     ]
    },
    {
     "data": {
      "text/plain": [
       "array([1, 5])"
      ]
     },
     "execution_count": 37,
     "metadata": {},
     "output_type": "execute_result"
    }
   ],
   "source": [
    "a2 = a1.reshape(2,2)\n",
    "a3 = a2\n",
    "print(a2)\n",
    "print(a3)\n",
    "\n",
    "a3.sum(axis=1)"
   ]
  },
  {
   "cell_type": "code",
   "execution_count": 22,
   "id": "8b23585c-c24f-411a-b778-145a66d82b05",
   "metadata": {},
   "outputs": [
    {
     "data": {
      "text/plain": [
       "array([1, 5])"
      ]
     },
     "execution_count": 22,
     "metadata": {},
     "output_type": "execute_result"
    }
   ],
   "source": [
    "a2.sum(axis=1)"
   ]
  },
  {
   "cell_type": "code",
   "execution_count": 48,
   "id": "91d304da-ab3a-42d4-8ab5-82570116e5b2",
   "metadata": {},
   "outputs": [
    {
     "name": "stdout",
     "output_type": "stream",
     "text": [
      "[[1 2 3 4]\n",
      " [5 6 7 8]]\n",
      "\n",
      "[[0 1 2 3]\n",
      " [4 5 6 7]]\n"
     ]
    }
   ],
   "source": [
    "a1 = [[1,2,3,4] , [5,6,7,8]]\n",
    "a1 = np.array(a1)\n",
    "b1 = np.arange(0,8)\n",
    "b1 = b1.reshape(2,4)\n",
    "print(a1)\n",
    "print()\n",
    "print(b1)"
   ]
  },
  {
   "cell_type": "code",
   "execution_count": 61,
   "id": "6feabbf1-2586-4f4c-a7b1-3214531f658a",
   "metadata": {},
   "outputs": [
    {
     "name": "stdout",
     "output_type": "stream",
     "text": [
      "[[1 2 3 4 0 1 2 3]\n",
      " [5 6 7 8 4 5 6 7]]\n",
      "\n",
      "[[1 2 3 4 0 1 2 3]\n",
      " [5 6 7 8 4 5 6 7]]\n"
     ]
    }
   ],
   "source": [
    "print(np.concatenate([a1,b1],axis=1))\n",
    "print()\n",
    "print(np.hstack([a1,b1]))"
   ]
  },
  {
   "cell_type": "markdown",
   "id": "0d768eb7-f627-413c-9ddd-7659b2e8b118",
   "metadata": {},
   "source": [
    "#### Splitting array into multiple array\n"
   ]
  },
  {
   "cell_type": "code",
   "execution_count": 74,
   "id": "ac53bec2-11d7-47f5-994a-bc47e0f38155",
   "metadata": {},
   "outputs": [
    {
     "name": "stdout",
     "output_type": "stream",
     "text": [
      "[8 9]\n"
     ]
    }
   ],
   "source": [
    "l1 = np.arange(0,10)\n",
    "l2 = np.array_split(l1,5)\n",
    "print(l2[4])"
   ]
  },
  {
   "cell_type": "markdown",
   "id": "13731096-2c22-4dcf-8f74-dd2ff4daa24a",
   "metadata": {},
   "source": [
    "## Reshape N-d TO 1-D matrix"
   ]
  },
  {
   "cell_type": "code",
   "execution_count": 11,
   "id": "d83fd978-a257-4e62-bb8d-fb10a3bfffba",
   "metadata": {},
   "outputs": [
    {
     "name": "stdout",
     "output_type": "stream",
     "text": [
      "2\n",
      "[[0 1 2 3 4]\n",
      " [5 6 7 8 9]]\n",
      "\n",
      "1\n",
      "[0 1 2 3 4 5 6 7 8 9]\n"
     ]
    }
   ],
   "source": [
    "\n",
    "import numpy as np\n",
    "ar = np.arange(0,10).reshape(2,5)\n",
    "print(ar.ndim)\n",
    "print(ar)\n",
    "print()\n",
    "\n",
    "ar  = ar.reshape(-1)\n",
    "print(ar.ndim)\n",
    "print(ar)\n"
   ]
  },
  {
   "cell_type": "code",
   "execution_count": 12,
   "id": "e634f197-133b-4944-ac17-2741cfaa176e",
   "metadata": {},
   "outputs": [
    {
     "data": {
      "text/plain": [
       "numpy.int32"
      ]
     },
     "execution_count": 12,
     "metadata": {},
     "output_type": "execute_result"
    }
   ],
   "source": [
    "import numpy as np\n",
    "ar = np.arange(0,5)\n",
    "type(ar[0])"
   ]
  },
  {
   "cell_type": "code",
   "execution_count": 8,
   "id": "93b72d1e-6e5a-4316-a8bb-33e5d01cd1b6",
   "metadata": {},
   "outputs": [
    {
     "name": "stdout",
     "output_type": "stream",
     "text": [
      "880 ns ± 59.9 ns per loop (mean ± std. dev. of 7 runs, 1,000,000 loops each)\n"
     ]
    }
   ],
   "source": [
    "%timeit [j**4 for j in range(1,9)]"
   ]
  },
  {
   "cell_type": "code",
   "execution_count": 9,
   "id": "c67c3fbc-396c-4a82-91c7-7c906842cb32",
   "metadata": {},
   "outputs": [
    {
     "name": "stdout",
     "output_type": "stream",
     "text": [
      "2.51 µs ± 381 ns per loop (mean ± std. dev. of 7 runs, 100,000 loops each)\n"
     ]
    }
   ],
   "source": [
    "%timeit np.arange(1,10)**4"
   ]
  },
  {
   "cell_type": "code",
   "execution_count": 31,
   "id": "971d62ac-cbfd-4707-bbf4-3be5fd7c8522",
   "metadata": {},
   "outputs": [
    {
     "name": "stdout",
     "output_type": "stream",
     "text": [
      "0\n",
      "0\n",
      "0\n",
      "0\n",
      "0\n"
     ]
    }
   ],
   "source": [
    "ar = np.zeros(5)\n",
    "for i in ar:\n",
    "    print(int(i))\n"
   ]
  },
  {
   "cell_type": "code",
   "execution_count": 47,
   "id": "15634a23-ac80-430d-8c2f-ee85bbb0c4be",
   "metadata": {},
   "outputs": [
    {
     "data": {
      "text/plain": [
       "array([ 0.,  2.,  4.,  6.,  8., 10.])"
      ]
     },
     "execution_count": 47,
     "metadata": {},
     "output_type": "execute_result"
    }
   ],
   "source": [
    "ar = np.linspace(0,10,6) \n",
    "ar"
   ]
  },
  {
   "cell_type": "code",
   "execution_count": 53,
   "id": "2cd5e118-2852-46e5-8697-3f7520397b7b",
   "metadata": {},
   "outputs": [
    {
     "data": {
      "text/plain": [
       "array([0.59900612, 0.72994721, 0.34944934, 0.68019876, 0.7494816 ])"
      ]
     },
     "execution_count": 53,
     "metadata": {},
     "output_type": "execute_result"
    }
   ],
   "source": [
    "ar = np.random.rand(5)\n",
    "ar\n"
   ]
  },
  {
   "cell_type": "code",
   "execution_count": 55,
   "id": "5cc1b29f-2314-4d71-a555-ffb8ed4c8da9",
   "metadata": {},
   "outputs": [
    {
     "data": {
      "text/plain": [
       "array([0, 0, 1, 2, 2, 1, 0, 2, 1, 0])"
      ]
     },
     "execution_count": 55,
     "metadata": {},
     "output_type": "execute_result"
    }
   ],
   "source": [
    "ar = np.random.randint(0,3,10)\n",
    "ar"
   ]
  },
  {
   "cell_type": "code",
   "execution_count": 1,
   "id": "18d59a1a-7668-4016-8134-2411e31ef878",
   "metadata": {},
   "outputs": [
    {
     "name": "stdout",
     "output_type": "stream",
     "text": [
      "<class 'str'>\n"
     ]
    }
   ],
   "source": [
    "a = '1'\n",
    "print(type(a))"
   ]
  },
  {
   "cell_type": "code",
   "execution_count": 3,
   "id": "ae933cff-a5f4-4719-b749-d6e8453f0459",
   "metadata": {},
   "outputs": [
    {
     "name": "stdout",
     "output_type": "stream",
     "text": [
      "1\n",
      "[0 1 2 3 4 5 6 7 8 9]\n",
      "(10,)\n"
     ]
    }
   ],
   "source": [
    "import numpy as np\n",
    "arr = np.arange(0,10)\n",
    "print(arr.ndim)\n",
    "print(arr)\n",
    "print(arr.shape)"
   ]
  },
  {
   "cell_type": "code",
   "execution_count": 17,
   "id": "8c9d5793-806e-4976-b45b-51350405d9cf",
   "metadata": {
    "scrolled": true
   },
   "outputs": [
    {
     "name": "stdout",
     "output_type": "stream",
     "text": [
      "[[1 2]\n",
      " [3 4]]\n",
      "2\n",
      "(2, 2)\n",
      "\n",
      "[[[ 0  1  2  3  4]\n",
      "  [ 5  6  7  8  9]\n",
      "  [10 11 12 13 14]]]\n",
      "(1, 3, 5)\n",
      "3\n",
      "\n",
      "1\n",
      "[ 0  1  2  3  4  5  6  7  8  9 10 11 12 13 14]\n",
      "<class 'int'>\n"
     ]
    }
   ],
   "source": [
    "arr = np.array([[1,2],[3,4]])\n",
    "print(arr)\n",
    "print(arr.ndim)\n",
    "Shape = arr.shape\n",
    "print(Shape)\n",
    "print()\n",
    "ar = np.arange(0,15).reshape(1,3,5)\n",
    "print(ar)\n",
    "print(ar.shape)\n",
    "print(ar.ndim)\n",
    "ar = ar.reshape(-1)\n",
    "print()\n",
    "print(ar.ndim)\n",
    "print(ar)\n",
    "print(type(ar.ndim))"
   ]
  },
  {
   "cell_type": "markdown",
   "id": "7f51dd70-3015-4fa4-ab7a-9eeb12827c1b",
   "metadata": {},
   "source": [
    "# Numpy Arithmetic Operation"
   ]
  },
  {
   "cell_type": "markdown",
   "id": "1a5ea9c6-90bd-4d1c-9eb3-241be6eb16f8",
   "metadata": {},
   "source": [
    "### 1D"
   ]
  },
  {
   "cell_type": "code",
   "execution_count": 24,
   "id": "be916792-4e2b-4510-b05b-3bb0e95af4fc",
   "metadata": {},
   "outputs": [
    {
     "name": "stdout",
     "output_type": "stream",
     "text": [
      "[1 2 3 4]\n",
      "[4 5 6 7]\n"
     ]
    }
   ],
   "source": [
    "import numpy as np\n",
    "arr = np.array([1,2,3,4])\n",
    "print(arr)\n",
    "\n",
    "# arr + 3  ==  np.add(arr,3)   both ways are valid\n",
    "\n",
    "print(arr+3)  # 3 gets added to each value"
   ]
  },
  {
   "cell_type": "code",
   "execution_count": 31,
   "id": "3467d55b-c9c7-47cd-87bd-871c7062e735",
   "metadata": {},
   "outputs": [
    {
     "name": "stdout",
     "output_type": "stream",
     "text": [
      "[ 2  4  6  8 10]\n"
     ]
    }
   ],
   "source": [
    "arr1 = np.array([1,2,3,4,5])\n",
    "arr2 = np.array([1,2,3,4,5])\n",
    "print(arr1+arr2)  # To add 2 array shape of both array must be same\n"
   ]
  },
  {
   "cell_type": "code",
   "execution_count": 28,
   "id": "7d8990e0-1d8b-41af-96c6-008731b7278d",
   "metadata": {},
   "outputs": [],
   "source": [
    "# Similarly other operation are also supported \n",
    "# arr + 3  == np.add(arr,3)\n",
    "# arr - 3  == np.subtract(arr,3)\n",
    "# arr * 3  == np.multiply(arr,3)\n",
    "# arr / 3  == np.divide(arr,3)\n",
    "# arr % 3  == np.mod(arr,3)\n",
    "# arr **3  == np.power(arr,3)\n",
    "# 1/arr    == np.reciprocal(arr)"
   ]
  },
  {
   "cell_type": "code",
   "execution_count": 51,
   "id": "8a1cee67-0a94-496e-919f-5d608c0791dc",
   "metadata": {},
   "outputs": [
    {
     "name": "stdout",
     "output_type": "stream",
     "text": [
      "[1.  0.5 inf]\n"
     ]
    },
    {
     "name": "stderr",
     "output_type": "stream",
     "text": [
      "C:\\Users\\katus\\AppData\\Local\\Temp\\ipykernel_11720\\671915843.py:5: RuntimeWarning: divide by zero encountered in divide\n",
      "  print(1/ar)\n"
     ]
    }
   ],
   "source": [
    "# Special Case : Divide by zero\n",
    "# Numpy doesnot throw error because divide by zero is represented by inf in Numpy\n",
    "# Numpy does provide warning though\n",
    "ar = np.array([1,2,0])\n",
    "print(1/ar)"
   ]
  },
  {
   "cell_type": "code",
   "execution_count": 71,
   "id": "b8183238-4bb1-4892-9659-ec2c4a3243f8",
   "metadata": {},
   "outputs": [
    {
     "name": "stdout",
     "output_type": "stream",
     "text": [
      "min:  1\n",
      "pos:  2\n",
      "\n",
      "min:  1\n",
      "pos:  2\n",
      "\n",
      "max:  10\n",
      "Pos:  5\n",
      "sqaure root:  [2.         1.73205081 1.         2.44948974 2.64575131 3.16227766]\n",
      "sin:  [0.         0.70710667 0.89399666]\n",
      "cos:  [ 1.          0.7071069  -0.44807362]\n",
      "\n",
      "prefix sum:  [ 1  3  6 10 15]\n"
     ]
    }
   ],
   "source": [
    "ar = np.array([4,3,1,6,7,10])\n",
    "print(\"min: \",np.min(ar)) # return the minimum element\n",
    "print(\"pos: \",np.argmin(ar)) # return the index of minimum element\n",
    "\n",
    "print()\n",
    "# There is anather way to write the same thing\n",
    "print(\"min: \",ar.min())\n",
    "print(\"pos: \",ar.argmin())\n",
    "\n",
    "# max and its index\n",
    "print()\n",
    "print(\"max: \",ar.max())\n",
    "print(\"Pos: \",ar.argmax())\n",
    "\n",
    "# square root\n",
    "print(\"sqaure root: \",np.sqrt(ar))\n",
    "\n",
    "# Sin and cos  \n",
    "# Note : All angles are considered in radian \n",
    "arr = np.array([0,0.785398,90])\n",
    "print(\"sin: \",np.sin(arr))\n",
    "print(\"cos: \",np.cos(arr))\n",
    "\n",
    "\n",
    "#commultive sum // prefix sum \n",
    "arr = np.array([1,2,3,4,5])\n",
    "print()\n",
    "print(\"prefix sum: \",arr.cumsum())"
   ]
  },
  {
   "cell_type": "markdown",
   "id": "3f29edf9-ba7c-4a1f-8a5f-213bf91d2934",
   "metadata": {},
   "source": [
    "### 2D"
   ]
  },
  {
   "cell_type": "code",
   "execution_count": 36,
   "id": "002e61ac-58a0-4ebe-bc64-fc5cba832b17",
   "metadata": {},
   "outputs": [
    {
     "name": "stdout",
     "output_type": "stream",
     "text": [
      "[[1 2 3 4]\n",
      " [5 6 7 8]]\n",
      "\n",
      "[[11 12 13 14]\n",
      " [15 16 17 18]]\n"
     ]
    }
   ],
   "source": [
    "import numpy as np\n",
    "arr = np.array([[1,2,3,4],[5,6,7,8]])\n",
    "print(arr)\n",
    "print()\n",
    "\n",
    "print(arr + 10)   # 10 gets added to every number"
   ]
  },
  {
   "cell_type": "code",
   "execution_count": 49,
   "id": "abfddebe-17c5-46bf-bf1d-e435bf94bc54",
   "metadata": {},
   "outputs": [
    {
     "name": "stdout",
     "output_type": "stream",
     "text": [
      "[[ 1  2  3]\n",
      " [ 3  4  5]\n",
      " [ 8  9 10]]\n",
      "\n",
      "[[1 2 3]\n",
      " [4 5 6]\n",
      " [7 8 9]]\n",
      "\n",
      "[[ 1  4  9]\n",
      " [12 20 30]\n",
      " [56 72 90]]\n"
     ]
    }
   ],
   "source": [
    "arr1 = np.array([[1,2,3],[3,4,5],[8,9,10]])\n",
    "arr2 = np.array([[1,2,3],[4,5,6],[7,8,9]])\n",
    "print(arr1)\n",
    "print()\n",
    "print(arr2)\n",
    "print()\n",
    "\n",
    "print(arr1*arr2)  # Operation will be performed ele by ele \n",
    "\n",
    "# To perform operation on N-D array\n",
    "# 1) Either shape of both array should be same eg( (3,3) and (3,3) )\n",
    "# 2) Or Last part(till min both shape) of shape should be same\n",
    "#    e.g    (3,4) == (4,)\n",
    "#           (3,4) != (2,4)\n",
    "#           (1,3,4) == (4,)    \n",
    "#           (1,3,4) == (3,4)\n"
   ]
  },
  {
   "cell_type": "code",
   "execution_count": 102,
   "id": "be393f3c-c33a-483f-aed2-203c1d66f4ee",
   "metadata": {},
   "outputs": [
    {
     "name": "stdout",
     "output_type": "stream",
     "text": [
      "[[1 2 3]\n",
      " [4 5 6]\n",
      " [7 8 9]]\n",
      "[7 8 9]\n",
      "[2 2 2]\n",
      "\n",
      "[[ 1  2  3]\n",
      " [ 5  7  9]\n",
      " [12 15 18]]\n",
      "[[ 1  3  6]\n",
      " [ 4  9 15]\n",
      " [ 7 15 24]]\n"
     ]
    }
   ],
   "source": [
    "arr = np.array([[1,2,3],[4,5,6],[7,8,9]])\n",
    "print(arr)\n",
    "\n",
    "print(arr.max(axis=0))\n",
    "print(arr.argmax(axis=0))\n",
    "print()\n",
    "print(arr.cumsum(axis=0))\n",
    "print(arr.cumsum(axis=1))"
   ]
  },
  {
   "cell_type": "code",
   "execution_count": 99,
   "id": "a012cac1-4fce-45f5-b2bf-51b53d1f6f84",
   "metadata": {},
   "outputs": [
    {
     "name": "stdout",
     "output_type": "stream",
     "text": [
      "Given 3D matrix\n",
      "[[[2 3]\n",
      "  [4 5]]\n",
      "\n",
      " [[6 7]\n",
      "  [8 9]]]\n",
      "\n",
      "**********************\n",
      "\n",
      "[[ 8 10]\n",
      " [12 14]]\n",
      "\n",
      "[[ 6  8]\n",
      " [14 16]]\n",
      "\n",
      "[[ 5  9]\n",
      " [13 17]]\n"
     ]
    }
   ],
   "source": [
    "ar = np.array([[[2,3],[4,5]],[[6,7],[8,9]]])\n",
    "print(\"Given 3D matrix\")\n",
    "print(ar)\n",
    "print()\n",
    "print(\"**********************\")\n",
    "print()\n",
    "print(ar.sum(axis=0))\n",
    "print()\n",
    "print(ar.sum(axis=1))\n",
    "print()\n",
    "print(ar.sum(axis=2))"
   ]
  },
  {
   "cell_type": "markdown",
   "id": "bc373ac4-4e42-43e6-aac4-5de030412ca3",
   "metadata": {},
   "source": [
    "# Broadcasting"
   ]
  },
  {
   "cell_type": "code",
   "execution_count": 103,
   "id": "e525ccd2-99e5-4108-8125-1e143047377c",
   "metadata": {},
   "outputs": [],
   "source": [
    "# When we try to perform the arithmetic operation then shape of array should be same . \n",
    "# In case of not both array should be able to broadcasted successfully"
   ]
  },
  {
   "cell_type": "code",
   "execution_count": 106,
   "id": "06bddfc4-9f9c-4f0f-8f00-47dcb4e7ef2e",
   "metadata": {},
   "outputs": [],
   "source": [
    "# Lets consider we want to perform the arith operation on 2 array of shape (a,b,c) and (p,q,r)\n",
    "# We will be able to perform operation iff ( a==p || a==1 || p==1  ) && ( b==q || b==1 || q==1 ) && ( c==r || c==1 || r==1 )  \n",
    "# In case of array with (a,b,c) and (q,r) shape : This will also be successfully works if condition on q and r satisfy .  "
   ]
  },
  {
   "cell_type": "code",
   "execution_count": 107,
   "id": "a3cdc016-5010-4aa9-8904-b8e97d956e5b",
   "metadata": {},
   "outputs": [
    {
     "name": "stdout",
     "output_type": "stream",
     "text": [
      "[1 2 3]\n",
      "(3,)\n",
      "\n",
      "[[1]\n",
      " [2]\n",
      " [3]]\n",
      "(3, 1)\n",
      "\n",
      "[[2 3 4]\n",
      " [3 4 5]\n",
      " [4 5 6]]\n"
     ]
    }
   ],
   "source": [
    "ar = np.array([1,2,3])\n",
    "ar2 = np.array([[1],[2],[3]])\n",
    "print(ar)\n",
    "print(ar.shape)\n",
    "print()\n",
    "print(ar2)\n",
    "print(ar2.shape)\n",
    "\n",
    "print()\n",
    "print(ar + ar2)"
   ]
  },
  {
   "cell_type": "markdown",
   "id": "97a144f9-b944-44b6-a202-b0a67c9f8f80",
   "metadata": {},
   "source": [
    "# Indexing"
   ]
  },
  {
   "cell_type": "markdown",
   "id": "813d9fa2-0c4b-4460-a053-6199c7987403",
   "metadata": {},
   "source": [
    "### 1D"
   ]
  },
  {
   "cell_type": "code",
   "execution_count": 122,
   "id": "604ee0f9-092f-4248-9d61-59bfb110c6e5",
   "metadata": {},
   "outputs": [
    {
     "name": "stdout",
     "output_type": "stream",
     "text": [
      "First ele:  4\n",
      "Last ele:  0\n",
      "Last ele:  0\n"
     ]
    }
   ],
   "source": [
    "import numpy as np\n",
    "ar = np.array([4,3,2,1,0])\n",
    "print(\"First ele: \",ar[0])\n",
    "print(\"Last ele: \",ar[ar.size - 1])\n",
    "print(\"Last ele: \",ar[-1])\n",
    "# support negative index as well . Last element index will be -1"
   ]
  },
  {
   "cell_type": "markdown",
   "id": "ab63bdaf-e4fa-455f-bda1-54e106ebba87",
   "metadata": {},
   "source": [
    "### 2D"
   ]
  },
  {
   "cell_type": "code",
   "execution_count": 127,
   "id": "ee620cea-05ae-409f-9e41-9339abe49a9c",
   "metadata": {},
   "outputs": [
    {
     "name": "stdout",
     "output_type": "stream",
     "text": [
      "[[1 2 3]\n",
      " [3 4 5]\n",
      " [6 7 8]]\n",
      "\n",
      "[1 2 3]\n",
      "1\n",
      "1\n"
     ]
    }
   ],
   "source": [
    "ar = np.array([[1,2,3],[3,4,5],[6,7,8]])\n",
    "print(ar)\n",
    "\n",
    "print()\n",
    "print(ar[0])\n",
    "\n",
    "print(ar[0,0]) # will give the element\n",
    "print(ar[0][0]) # above and this is same"
   ]
  },
  {
   "cell_type": "markdown",
   "id": "733bbeef-6577-4d8c-9282-afefd0c19b5e",
   "metadata": {},
   "source": [
    "# Slicing "
   ]
  },
  {
   "cell_type": "markdown",
   "id": "64133cc7-9848-4a59-8b4b-e7eda980dbc4",
   "metadata": {},
   "source": [
    "### 1D"
   ]
  },
  {
   "cell_type": "code",
   "execution_count": 130,
   "id": "71e70b29-1fa3-426e-9564-e2846d470cda",
   "metadata": {},
   "outputs": [],
   "source": [
    "# suppose array is ar\n",
    "# ar[start : End : step_count ]"
   ]
  },
  {
   "cell_type": "code",
   "execution_count": 129,
   "id": "2746460d-e9be-429e-ba7a-6293818b5aa8",
   "metadata": {},
   "outputs": [
    {
     "name": "stdout",
     "output_type": "stream",
     "text": [
      "First 3 ele  [4 3 2]\n",
      "Last 3 ele:  [2 1 0]\n"
     ]
    }
   ],
   "source": [
    "import numpy as np\n",
    "ar = np.array([4,3,2,1,0])\n",
    "print(\"First 3 ele \", ar[:3])\n",
    "print(\"Last 3 ele: \",ar[2:])"
   ]
  },
  {
   "cell_type": "code",
   "execution_count": 134,
   "id": "cb5b4925-72e9-4c20-9a00-321162c7be3a",
   "metadata": {},
   "outputs": [
    {
     "name": "stdout",
     "output_type": "stream",
     "text": [
      "[0 1 2 3 4 5 6 7 8 9]\n",
      "\n",
      "[0 2 4 6 8]\n",
      "[3 5 7]\n"
     ]
    }
   ],
   "source": [
    "ar = np.arange(0,10)\n",
    "print(ar)\n",
    "print()\n",
    "print(ar[::2])\n",
    "print(ar[3:8:2])"
   ]
  },
  {
   "cell_type": "markdown",
   "id": "d7248ce0-1d8f-41d4-a22f-de4658a6df73",
   "metadata": {},
   "source": [
    "### 2D"
   ]
  },
  {
   "cell_type": "code",
   "execution_count": 139,
   "id": "c1e92c38-09af-47e9-ade1-2f27eda3ace1",
   "metadata": {},
   "outputs": [
    {
     "name": "stdout",
     "output_type": "stream",
     "text": [
      "[[1 2 3]\n",
      " [3 4 5]\n",
      " [6 7 8]]\n",
      "\n",
      "[4 5]\n",
      "[4 5]\n"
     ]
    }
   ],
   "source": [
    "ar = np.array([[1,2,3],[3,4,5],[6,7,8]])\n",
    "print(ar)\n",
    "# suppose out task is to print [4,5] \n",
    "print()\n",
    "print(ar[1,1:])\n",
    "print(ar[1][1:]) # This can be done in above both ways"
   ]
  },
  {
   "cell_type": "markdown",
   "id": "18e6872a-52f8-42c3-8306-8fdd6d78023e",
   "metadata": {},
   "source": [
    "# Iterating Numpy Array"
   ]
  },
  {
   "cell_type": "markdown",
   "id": "1d916396-937a-4ca6-8c16-e7c40e7b9a86",
   "metadata": {},
   "source": [
    "### 1D"
   ]
  },
  {
   "cell_type": "code",
   "execution_count": 150,
   "id": "c5e57ad2-2c8b-4b56-89f0-8373a1ecd890",
   "metadata": {},
   "outputs": [
    {
     "name": "stdout",
     "output_type": "stream",
     "text": [
      "[8 4 0 7 2]\n",
      "\n",
      "8\n",
      "4\n",
      "0\n",
      "7\n",
      "2\n",
      "\n",
      "8\n",
      "4\n",
      "0\n",
      "7\n",
      "2\n"
     ]
    }
   ],
   "source": [
    "import numpy as np\n",
    "ar = np.random.randint(0,10,5)\n",
    "print(ar)\n",
    "print()\n",
    "# first way of iterating\n",
    "for i in ar:\n",
    "    print(i)\n",
    "\n",
    "print()\n",
    "# second way of iterating\n",
    "for i in range(ar.size):\n",
    "    print(ar[i])"
   ]
  },
  {
   "cell_type": "code",
   "execution_count": 158,
   "id": "6159c6d7-8189-4212-967b-c609d63440f9",
   "metadata": {},
   "outputs": [
    {
     "name": "stdout",
     "output_type": "stream",
     "text": [
      "Original:  [4 6 8 6 3]\n",
      "Reversed:  [3 6 8 6 4]\n"
     ]
    }
   ],
   "source": [
    "ar = np.random.randint(0,10,5)\n",
    "print(\"Original: \",ar)\n",
    "print(\"Reversed: \",ar[::-1])"
   ]
  },
  {
   "cell_type": "markdown",
   "id": "710e6eef-5fc6-409d-91c0-5da01975ec6b",
   "metadata": {},
   "source": [
    "### 2D"
   ]
  },
  {
   "cell_type": "code",
   "execution_count": 190,
   "id": "67111904-bd23-4960-baba-940b9e9e8da8",
   "metadata": {},
   "outputs": [
    {
     "name": "stdout",
     "output_type": "stream",
     "text": [
      "[[1 2 3 4]\n",
      " [5 6 7 8]]\n",
      "\n",
      "[1 2 3 4]\n",
      "[5 6 7 8]\n",
      "\n",
      "1\n",
      "2\n",
      "3\n",
      "4\n",
      "5\n",
      "6\n",
      "7\n",
      "8\n",
      "\n",
      "1\n",
      "2\n",
      "3\n",
      "4\n",
      "5\n",
      "6\n",
      "7\n",
      "8\n",
      "\n",
      "1\n",
      "2\n",
      "3\n",
      "4\n",
      "5\n",
      "6\n",
      "7\n",
      "8\n",
      "index: (0, 0) and Data: 1\n",
      "index: (0, 1) and Data: 2\n",
      "index: (0, 2) and Data: 3\n",
      "index: (0, 3) and Data: 4\n",
      "index: (1, 0) and Data: 5\n",
      "index: (1, 1) and Data: 6\n",
      "index: (1, 2) and Data: 7\n",
      "index: (1, 3) and Data: 8\n"
     ]
    }
   ],
   "source": [
    "ar = np.array([[1,2,3,4],[5,6,7,8]])\n",
    "print(ar)\n",
    "print()\n",
    "\n",
    "# iterating rows\n",
    "for i in ar:\n",
    "    print(i)\n",
    "print()\n",
    "# iterating every element\n",
    "for i in ar:\n",
    "    for j in i:\n",
    "        print(j)\n",
    "print()\n",
    "# Anather method of iteration using function \n",
    "for i in np.nditer(ar):\n",
    "    print(i)\n",
    "print()\n",
    "# Method 3 of iteration\n",
    "for i in range(ar.shape[0] ): # this will give the total rows\n",
    "    for j in range(ar.shape[1]):\n",
    "        print(ar[i][j])\n",
    "\n",
    "# Iteration which gives both ele and its index\n",
    "for i,d in np.ndenumerate(ar):\n",
    "    print(f\"index: {i} and Data: {d}\")"
   ]
  },
  {
   "cell_type": "code",
   "execution_count": 192,
   "id": "7a90098f-3036-41e0-9a2d-c46b0bc2b9d9",
   "metadata": {},
   "outputs": [
    {
     "name": "stdout",
     "output_type": "stream",
     "text": [
      "[[[1 2]\n",
      "  [3 4]]\n",
      "\n",
      " [[5 6]\n",
      "  [7 8]]]\n",
      "\n",
      "[[ 6  8]\n",
      " [10 12]]\n",
      "[[ 4  6]\n",
      " [12 14]]\n",
      "[[ 3  7]\n",
      " [11 15]]\n"
     ]
    }
   ],
   "source": [
    "ar = np.array([[[1,2],[3,4]],[[5,6],[7,8]]])\n",
    "print(ar)\n",
    "print()\n",
    "print(ar.sum(axis=0))\n",
    "print(ar.sum(axis=1))\n",
    "print(ar.sum(axis=2))\n"
   ]
  },
  {
   "cell_type": "markdown",
   "id": "b6547013-8f89-4774-a91c-3cc9b6dac475",
   "metadata": {},
   "source": [
    "# Copy Vs View"
   ]
  },
  {
   "cell_type": "code",
   "execution_count": 193,
   "id": "57058ba2-3f02-43cd-a951-a9d201ba5250",
   "metadata": {},
   "outputs": [],
   "source": [
    "# Copy function creates new seperate array ( Its like call by value where new variable gets created )\n",
    "# View function dont create new array ( Its like call by reference ) \n",
    "# changes made in copy array won't affect original array whereas changes made in view array will affect"
   ]
  },
  {
   "cell_type": "code",
   "execution_count": 194,
   "id": "cffc52b8-b68f-47ea-9064-30a8055ffdc0",
   "metadata": {},
   "outputs": [
    {
     "name": "stdout",
     "output_type": "stream",
     "text": [
      "[1 2 3]\n",
      "[10  2  3]\n"
     ]
    }
   ],
   "source": [
    "import numpy as np\n",
    "arr = np.array([1,2,3])\n",
    "arr_copy = arr.copy()\n",
    "\n",
    "arr_copy[0] = 10\n",
    "print(arr)\n",
    "print(arr_copy)"
   ]
  },
  {
   "cell_type": "code",
   "execution_count": 195,
   "id": "36d07338-cc0c-4495-9ee5-fc776773a7dd",
   "metadata": {},
   "outputs": [
    {
     "name": "stdout",
     "output_type": "stream",
     "text": [
      "[10  2  3]\n",
      "[10  2  3]\n"
     ]
    }
   ],
   "source": [
    "import numpy as np\n",
    "arr = np.array([1,2,3])\n",
    "arr_view = arr.view()\n",
    "\n",
    "arr_view[0] = 10\n",
    "print(arr)\n",
    "print(arr_view)"
   ]
  },
  {
   "cell_type": "markdown",
   "id": "8f54fea4-1997-4537-abb7-ef5c5040e996",
   "metadata": {},
   "source": [
    "# Join and Split function"
   ]
  },
  {
   "cell_type": "code",
   "execution_count": 10,
   "id": "40702903-3caa-4035-8c42-71c6da8d5b25",
   "metadata": {},
   "outputs": [
    {
     "name": "stdout",
     "output_type": "stream",
     "text": [
      "[1 2 3 4 5 1 2 3]\n"
     ]
    }
   ],
   "source": [
    "import numpy as np\n",
    "a1 = np.array([1,2,3])   \n",
    "a2 = np.array([4,5])\n",
    "a3 = a1.copy()\n",
    "print(np.concatenate((a1,a2,a3)))\n"
   ]
  },
  {
   "cell_type": "code",
   "execution_count": 19,
   "id": "fe521c6a-1c2a-410c-98a7-164b8b72360a",
   "metadata": {},
   "outputs": [
    {
     "name": "stdout",
     "output_type": "stream",
     "text": [
      "[[1 2]\n",
      " [3 4]]\n",
      "\n",
      "[[5 6]\n",
      " [7 8]]\n",
      "\n",
      "[[1 2]\n",
      " [3 4]\n",
      " [5 6]\n",
      " [7 8]]\n",
      "\n",
      "[[1 2 5 6]\n",
      " [3 4 7 8]]\n",
      "\n",
      "[[1 2 5 6]\n",
      " [3 4 7 8]]\n"
     ]
    }
   ],
   "source": [
    "ar1 = np.array([[1,2],[3,4]])\n",
    "ar2 = np.array([[5,6],[7,8]])\n",
    "print(ar1)\n",
    "print()\n",
    "print(ar2)\n",
    "print()\n",
    "\n",
    "print(np.concatenate((ar1,ar2),axis=0)) # Vertical concatenation\n",
    "print()\n",
    "print(np.concatenate((ar1,ar2),axis=1)) # Horizontal concatenation\n",
    "\n",
    "\n",
    "# Above thing can also be done using stack function \n",
    "# np.hstack ( Horizontal concatenation )\n",
    "# np.vstack ( Vertical concatenation )\n",
    "\n",
    "print()\n",
    "print(np.hstack((ar1,ar2)))"
   ]
  },
  {
   "cell_type": "code",
   "execution_count": 28,
   "id": "b0288a19-27c9-4ef3-810c-5539bee4845a",
   "metadata": {},
   "outputs": [
    {
     "name": "stdout",
     "output_type": "stream",
     "text": [
      "[array([1, 2]), array([3, 4]), array([5, 6])]\n",
      "[array([1, 2]), array([3, 4]), array([5]), array([6])]\n"
     ]
    }
   ],
   "source": [
    "# np.array_split(Which array to split , kitne mai split karna hai )\n",
    "\n",
    "a1 = np.array([1,2,3,4,5,6])\n",
    "arr = np.array_split(a1,3)  # return the list of arrays\n",
    "print(arr)\n",
    "\n",
    "print(np.array_split(a1,4))\n",
    "# If split are more than the size of array then empty array gets created\n"
   ]
  },
  {
   "cell_type": "code",
   "execution_count": 40,
   "id": "e6b6239e-562e-47d1-a16c-a3ab1b638022",
   "metadata": {},
   "outputs": [
    {
     "name": "stdout",
     "output_type": "stream",
     "text": [
      "[[1 2]\n",
      " [3 4]\n",
      " [4 5]]\n",
      "\n",
      "[array([[1, 2]]), array([[3, 4]]), array([[4, 5]])]\n",
      "\n",
      "[array([[1],\n",
      "       [3],\n",
      "       [4]]), array([[2],\n",
      "       [4],\n",
      "       [5]]), array([], shape=(3, 0), dtype=int32)]\n"
     ]
    }
   ],
   "source": [
    "# splitting 2D array\n",
    "ar1 = np.array([[1,2],[3,4],[4,5]])\n",
    "#ar2 = np.array([[5,6],[7,8]])\n",
    "print(ar1)\n",
    "print()\n",
    "print(np.array_split(ar1,3)) # splitting according to the rows i.e axis = 1 \n",
    "print()\n",
    "print(np.array_split(ar1,3,axis=1))\n"
   ]
  },
  {
   "cell_type": "markdown",
   "id": "7eaf3ba1-211c-43b8-a5dd-0e82015d9223",
   "metadata": {},
   "source": [
    "# Search "
   ]
  },
  {
   "cell_type": "code",
   "execution_count": 120,
   "id": "bfca3480-8732-499b-9188-3efc2dbb73c3",
   "metadata": {},
   "outputs": [
    {
     "name": "stdout",
     "output_type": "stream",
     "text": [
      "(array([1, 7], dtype=int64),)\n"
     ]
    }
   ],
   "source": [
    "import numpy as np\n",
    "ar1 = np.array([1,2,3,4,6,5,3,2,1,8])\n",
    "indexes = np.where(ar1 == 2)\n",
    "print(indexes)\n",
    "\n",
    "\n",
    "# Where function returns the list of indexes where element maches"
   ]
  },
  {
   "cell_type": "markdown",
   "id": "62fe6dfb-aba3-4260-9886-190ff8e79ffd",
   "metadata": {},
   "source": [
    "# Search Sorted Array"
   ]
  },
  {
   "cell_type": "code",
   "execution_count": 11,
   "id": "6131ce98-afac-4372-a152-839a01add786",
   "metadata": {},
   "outputs": [],
   "source": [
    "# Used to search in sorted array . It does searching by binary search .\n",
    "# It return index of element where element can be inserted if all elements needs to stored in sorted order\n",
    "# List needs to be sorted before using the function."
   ]
  },
  {
   "cell_type": "code",
   "execution_count": 17,
   "id": "f4248831-0da0-4006-a44e-f1f1f32bd77f",
   "metadata": {},
   "outputs": [
    {
     "name": "stdout",
     "output_type": "stream",
     "text": [
      "6\n"
     ]
    }
   ],
   "source": [
    "import numpy as np\n",
    "ar1 = np.array([12,2,3,4,5,2,1,3]) # 1 2 2 3 3 4 5 12\n",
    "\n",
    "ar1.sort()\n",
    "print(np.searchsorted(ar1,5))\n",
    "\n",
    "# searchsorted( Array , Element ) \n"
   ]
  },
  {
   "cell_type": "markdown",
   "id": "f810f596-1c56-41a6-a3a9-e64efa8ff2c2",
   "metadata": {},
   "source": [
    "# Sort "
   ]
  },
  {
   "cell_type": "code",
   "execution_count": 122,
   "id": "cfa6f977-8858-443e-b9de-ae0577fab927",
   "metadata": {},
   "outputs": [
    {
     "name": "stdout",
     "output_type": "stream",
     "text": [
      "[0 0 1 2 6]\n",
      "[6 2 1 0 0]\n"
     ]
    }
   ],
   "source": [
    "import numpy as np\n",
    "ar1 = np.random.randint(0,10,5)\n",
    "ar1.sort()\n",
    "print(ar1)\n",
    "\n",
    "# Sort function sort the array in increasing order\n",
    "\n",
    "\n",
    "# sorting in decreasing order\n",
    "print(np.sort(ar1)[::-1])\n"
   ]
  },
  {
   "cell_type": "code",
   "execution_count": 27,
   "id": "720c5a04-6bea-4261-85e1-cd2135124e59",
   "metadata": {},
   "outputs": [
    {
     "name": "stdout",
     "output_type": "stream",
     "text": [
      "[[18  5 15 10]\n",
      " [ 5  8  9  4]\n",
      " [ 4  9 18 14]\n",
      " [19 17 18 17]]\n",
      "\n",
      "[[ 5 10 15 18]\n",
      " [ 4  5  8  9]\n",
      " [ 4  9 14 18]\n",
      " [17 17 18 19]]\n",
      "\n",
      "[[ 4  5  8  9]\n",
      " [ 4  9 14 18]\n",
      " [ 5 10 15 18]\n",
      " [17 17 18 19]]\n"
     ]
    }
   ],
   "source": [
    "# Sorting in 2D\n",
    "\n",
    "ar1 = np.random.randint(0,20,16).reshape(4,4)\n",
    "print(ar1)\n",
    "\n",
    "print()\n",
    "ar1.sort()  # Elements gets sorted along axis = 1\n",
    "print(ar1)\n",
    "print()\n",
    "ar1.sort(axis=0) # Elements are sorted along axis = 0\n",
    "print(ar1)"
   ]
  },
  {
   "cell_type": "markdown",
   "id": "9f98ab48-c00c-4b13-9b74-d14043d0b7d0",
   "metadata": {},
   "source": [
    "# Shuffle"
   ]
  },
  {
   "cell_type": "code",
   "execution_count": 40,
   "id": "efbc926d-715e-4adb-8def-66a7f39874c6",
   "metadata": {},
   "outputs": [
    {
     "name": "stdout",
     "output_type": "stream",
     "text": [
      "[2 4 1 1 3]\n"
     ]
    }
   ],
   "source": [
    "import numpy as np\n",
    "ar1 = np.array([1,1,2,3,4])\n",
    "np.random.shuffle(ar1)\n",
    "print(ar1)\n",
    "\n",
    "# Shuffle function shuffles the array . It does changes in parameter array . So it does not return anything"
   ]
  },
  {
   "cell_type": "markdown",
   "id": "6d337c1b-1759-4a4f-ae98-053eec16864b",
   "metadata": {},
   "source": [
    "# Unique "
   ]
  },
  {
   "cell_type": "code",
   "execution_count": 45,
   "id": "344a329d-b723-43fa-9fda-bd0057889c3c",
   "metadata": {},
   "outputs": [
    {
     "name": "stdout",
     "output_type": "stream",
     "text": [
      "(array([1, 2, 3, 4, 5]), array([0, 1, 2, 7, 8], dtype=int64), array([3, 2, 2, 1, 1], dtype=int64))\n"
     ]
    }
   ],
   "source": [
    "import numpy as np\n",
    "ar1 = np.array([1,2,3,2,1,1,3,4,5])\n",
    "print(np.unique(ar1,return_index=True,return_counts = True))\n",
    "\n",
    "# Unique return the list of unique elements . Unique also return indexes of those unique elements ( return_index = true )\n",
    "# Unique function can return the count of elements as well (return_counts = true )"
   ]
  },
  {
   "cell_type": "markdown",
   "id": "5b85b16a-db7d-41e5-8994-c4831c4a9f27",
   "metadata": {},
   "source": [
    "# Flatten Vs Ravel Vs Reshape(-1)"
   ]
  },
  {
   "cell_type": "code",
   "execution_count": 50,
   "id": "c8c347f5-b309-4114-80c0-2e71e2378be8",
   "metadata": {},
   "outputs": [],
   "source": [
    "# all this 3 functions used to convert Nd to 1D array"
   ]
  },
  {
   "cell_type": "code",
   "execution_count": 51,
   "id": "3d1e85d3-76e1-4902-a824-d1e4f7e97f35",
   "metadata": {},
   "outputs": [],
   "source": [
    "# Flatten : Return the copy of array after performing the conversion\n",
    "# Ravel : Try to return View . If fails returns copy\n",
    "# reshape(-1) : Same like ravel"
   ]
  },
  {
   "cell_type": "code",
   "execution_count": 57,
   "id": "1a4e2b9f-0231-4a42-a1d2-0bc6f33e8c4c",
   "metadata": {},
   "outputs": [
    {
     "name": "stdout",
     "output_type": "stream",
     "text": [
      "[[3 4 7 4 7]\n",
      " [2 0 2 9 2]\n",
      " [6 3 7 0 0]]\n",
      "[3 4 7 4 7 2 0 2 9 2 6 3 7 0 0]\n",
      "[  3   4   7 300   7   2   0   2   9   2   6   3   7   0   0]\n"
     ]
    },
    {
     "data": {
      "text/plain": [
       "array([[  3,   4,   7, 300,   7],\n",
       "       [  2,   0,   2,   9,   2],\n",
       "       [  6,   3,   7,   0,   0]])"
      ]
     },
     "execution_count": 57,
     "metadata": {},
     "output_type": "execute_result"
    }
   ],
   "source": [
    "ar1 = np.random.randint(0,10,15).reshape(3,5)\n",
    "print(ar1)\n",
    "\n",
    "print(ar1.reshape(-1))  # Elements are taken row-wise\n",
    "x = ar1.reshape(-1)\n",
    "x[3] = 300\n",
    "print(x)\n",
    "ar1        # can easily seen view of ar1 was created by reshape(-1)"
   ]
  },
  {
   "cell_type": "code",
   "execution_count": 62,
   "id": "8b5a7e85-8242-4377-9a26-48dd4d6756f5",
   "metadata": {},
   "outputs": [
    {
     "name": "stdout",
     "output_type": "stream",
     "text": [
      "[[1 5 0 4 0]\n",
      " [7 5 6 2 5]\n",
      " [2 6 6 0 3]]\n",
      "[1 7 2 5 5 6 0 6 6 4 2 0 0 5 3]\n",
      "[1 5 0 4 0 7 5 6 2 5 2 6 6 0 3]\n",
      "[1 5 0 4 0 7 5 6 2 5 2 6 6 0 3]\n",
      "[1 7 2 5 5 6 0 6 6 4 2 0 0 5 3]\n"
     ]
    }
   ],
   "source": [
    "ar1 = np.random.randint(0,10,15).reshape(3,5)\n",
    "print(ar1)\n",
    "\n",
    "# Flatten orders  C:Row-wise F:Column-wize A:\n",
    "print(ar1.flatten(order='F'))\n",
    "print(ar1.flatten(order='A'))\n",
    "print(ar1.flatten(order='K'))\n",
    "\n",
    "print(ar1.ravel(order='F'))"
   ]
  },
  {
   "cell_type": "markdown",
   "id": "23c3b597-210a-49f0-a593-a261666ffd71",
   "metadata": {},
   "source": [
    "# Insert "
   ]
  },
  {
   "cell_type": "code",
   "execution_count": 67,
   "id": "daec7da4-3fed-4dac-bcad-27326d96c776",
   "metadata": {},
   "outputs": [
    {
     "name": "stdout",
     "output_type": "stream",
     "text": [
      "[  1   2 200   3   4]\n",
      "[1 2 3 4]\n",
      "[ 1  2 50  3  4 50]\n"
     ]
    }
   ],
   "source": [
    "ar = np.array([1,2,3,4])\n",
    "x = np.insert(ar,2,200) # return the copy of array after inserting . Original remains unchanged\n",
    "print(x)\n",
    "print(ar)\n",
    "y = np.insert(ar,(2,4),50)\n",
    "print(y)\n",
    "\n",
    "# insert( array , Index , Element )"
   ]
  },
  {
   "cell_type": "code",
   "execution_count": 75,
   "id": "cd21f49e-550d-4cfe-b111-a5ceca31b8a3",
   "metadata": {},
   "outputs": [
    {
     "name": "stdout",
     "output_type": "stream",
     "text": [
      "[[1 2 3]\n",
      " [4 5 6]]\n",
      "\n",
      "[[1 2 3]\n",
      " [4 5 6]\n",
      " [7 8 9]]\n",
      "\n",
      "[[1 2 3 1]\n",
      " [4 5 6 2]]\n"
     ]
    }
   ],
   "source": [
    "ar = np.array([[1,2,3],[4,5,6]])\n",
    "print(ar)\n",
    "print()\n",
    "print(np.insert(ar,2,[7,8,9],axis=0)) \n",
    "print()\n",
    "print(np.insert(ar,3,[1,2],axis=1))"
   ]
  },
  {
   "cell_type": "markdown",
   "id": "9c9ef76e-4b20-4ddc-b08e-e3f835ed31a6",
   "metadata": {},
   "source": [
    "# Delete"
   ]
  },
  {
   "cell_type": "code",
   "execution_count": 78,
   "id": "4f121fa7-d958-4202-a846-19e4fcf3bd49",
   "metadata": {},
   "outputs": [
    {
     "name": "stdout",
     "output_type": "stream",
     "text": [
      "[1 3 4]\n",
      "[1 2 3 4]\n"
     ]
    }
   ],
   "source": [
    "import numpy as np\n",
    "ar = np.array([1,2,3,4])\n",
    "print(np.delete(ar,1))\n",
    "print(ar)\n",
    "\n",
    "# Delete ( array , Index )\n"
   ]
  },
  {
   "cell_type": "code",
   "execution_count": 95,
   "id": "1dedc43d-bf68-4399-b3e0-6e189509ea52",
   "metadata": {},
   "outputs": [
    {
     "name": "stdout",
     "output_type": "stream",
     "text": [
      "[[1 2 3]\n",
      " [4 5 6]]\n",
      "\n",
      "[1 1 2 3 4 5 6]\n"
     ]
    }
   ],
   "source": [
    "ar = np.array([[1,2,3],[4,5,6]])\n",
    "print(ar)\n",
    "print()\n",
    "ar1 = np.array([1])\n",
    "for i in np.nditer(ar):\n",
    "    ar1 = np.append(ar1,i)\n",
    "print(ar1)"
   ]
  },
  {
   "cell_type": "markdown",
   "id": "57dc19ea-97f7-434d-8306-6852e0b2fbdf",
   "metadata": {},
   "source": [
    "# Matrix "
   ]
  },
  {
   "cell_type": "code",
   "execution_count": 97,
   "id": "8684ef38-8c3b-4ba8-ba5b-2238a1a5c6df",
   "metadata": {},
   "outputs": [
    {
     "name": "stdout",
     "output_type": "stream",
     "text": [
      "[[1 2]\n",
      " [3 4]]\n",
      "[[5 4]\n",
      " [1 2]]\n",
      "\n",
      "[[ 7  8]\n",
      " [19 20]]\n"
     ]
    }
   ],
   "source": [
    "import numpy as np\n",
    "m1 = np.matrix([[1,2],[3,4]])\n",
    "m2 = np.matrix([[5,4],[1,2]])\n",
    "print(m1)\n",
    "print(m2)\n",
    "print()\n",
    "print(m1*m2) # It does matrix multiplication"
   ]
  },
  {
   "cell_type": "code",
   "execution_count": 100,
   "id": "547bc25f-45ee-4bde-9942-2e9bbdbc7e1e",
   "metadata": {},
   "outputs": [
    {
     "name": "stdout",
     "output_type": "stream",
     "text": [
      "[[1 2 3]]\n",
      "(1, 3)\n",
      "2\n",
      "[[4 5 6]]\n"
     ]
    }
   ],
   "source": [
    "m1 = np.matrix([1,2,3])\n",
    "print(m1)\n",
    "print(m1.shape)\n",
    "print(m1.ndim)\n",
    "print(m1 + 3) # Broadcasting can be done"
   ]
  },
  {
   "cell_type": "markdown",
   "id": "63db29f5-ce75-48c0-a856-23ff8a7e1aec",
   "metadata": {},
   "source": [
    "## Transpose"
   ]
  },
  {
   "cell_type": "code",
   "execution_count": 103,
   "id": "22f57cdf-f1ec-47fc-8f01-081f4332c98e",
   "metadata": {},
   "outputs": [
    {
     "name": "stdout",
     "output_type": "stream",
     "text": [
      "[[1 2]\n",
      " [3 4]]\n",
      "\n",
      "transpose of Matrix : \n",
      "[[1 3]\n",
      " [2 4]]\n"
     ]
    }
   ],
   "source": [
    "m1 = np.matrix([[1,2],[3,4]])\n",
    "print(m1)\n",
    "\n",
    "print()\n",
    "print(\"transpose of Matrix : \")\n",
    "print(np.transpose(m1))"
   ]
  },
  {
   "cell_type": "markdown",
   "id": "e2a6d409-1434-4918-8103-b0deeeb733a0",
   "metadata": {},
   "source": [
    "## Inverse "
   ]
  },
  {
   "cell_type": "code",
   "execution_count": 105,
   "id": "b001f01c-858e-4cb8-afb5-a176683d2a3a",
   "metadata": {},
   "outputs": [
    {
     "name": "stdout",
     "output_type": "stream",
     "text": [
      "[[1 2]\n",
      " [3 4]]\n",
      "[[-2.   1. ]\n",
      " [ 1.5 -0.5]]\n"
     ]
    }
   ],
   "source": [
    "m1 = np.matrix([[1,2],[3,4]])\n",
    "print(m1)\n",
    "print(np.linalg.inv(m1))"
   ]
  },
  {
   "cell_type": "markdown",
   "id": "fe98f710-a563-4da3-bec0-f471c9bb6c02",
   "metadata": {},
   "source": [
    "## Power of matrix"
   ]
  },
  {
   "cell_type": "code",
   "execution_count": 109,
   "id": "80a4b066-6699-4fb6-8d35-32463973be9a",
   "metadata": {},
   "outputs": [
    {
     "name": "stdout",
     "output_type": "stream",
     "text": [
      "[[1 2]\n",
      " [3 4]]\n",
      "\n",
      "[[ 7 10]\n",
      " [15 22]]\n",
      "[[1 0]\n",
      " [0 1]]\n",
      "[[-2.   1. ]\n",
      " [ 1.5 -0.5]]\n"
     ]
    }
   ],
   "source": [
    "m1 = np.matrix([[1,2],[3,4]])\n",
    "print(m1)\n",
    "print()\n",
    "\n",
    "print(np.linalg.matrix_power(m1,2)) # gives the m1^2\n",
    "print(np.linalg.matrix_power(m1,0)) # gives the identity matrix\n",
    "print(np.linalg.matrix_power(m1,-1)) # gives the inverse"
   ]
  },
  {
   "cell_type": "markdown",
   "id": "9ff52fb9-f7ef-4885-8de5-e5aefb3ea247",
   "metadata": {},
   "source": [
    "## Determinant"
   ]
  },
  {
   "cell_type": "code",
   "execution_count": 116,
   "id": "0941437e-499f-4ad7-a7e0-2e4203e1e2d8",
   "metadata": {},
   "outputs": [
    {
     "name": "stdout",
     "output_type": "stream",
     "text": [
      "[[1 2]\n",
      " [3 4]]\n",
      "-2.0000000000000004\n"
     ]
    }
   ],
   "source": [
    "m1 = np.matrix([[1,2],[3,4]])\n",
    "print(m1)\n",
    "print(np.linalg.det(m1))\n",
    "\n",
    "# m2 = np.matrix([1,2,3])\n",
    "# print(np.linalg.det(m2)) # Not working coz m2 is not square matrix"
   ]
  },
  {
   "cell_type": "markdown",
   "id": "e6aebfe6-3f53-461f-ac72-27b416196935",
   "metadata": {},
   "source": [
    "# Mean Var and std "
   ]
  },
  {
   "cell_type": "code",
   "execution_count": 118,
   "id": "b02e2c07-704e-47ff-83e1-5ba3c991a2ec",
   "metadata": {},
   "outputs": [
    {
     "name": "stdout",
     "output_type": "stream",
     "text": [
      "[1 2 3 4 5]\n",
      "Mean:  3.0\n",
      "Variance :  2.0\n",
      "Std Deviation :  1.4142135623730951\n"
     ]
    }
   ],
   "source": [
    "a1 = np.array([1,2,3,4,5])\n",
    "print(a1)\n",
    "\n",
    "print(\"Mean: \", np.mean(a1))\n",
    "print(\"Variance : \",np.var(a1))\n",
    "print(\"Std Deviation : \",np.std(a1))"
   ]
  },
  {
   "cell_type": "code",
   "execution_count": 125,
   "id": "51fef686-ee47-47b3-a5e0-7079382a7cc7",
   "metadata": {},
   "outputs": [
    {
     "name": "stdout",
     "output_type": "stream",
     "text": [
      "[0 1 2 3 4 5 6 7 8 9]\n",
      "[9 8 7 6 5 4 3 2 1 0]\n"
     ]
    }
   ],
   "source": [
    "ar = np.arange(0,10)\n",
    "print(ar)\n",
    "print(np.flip(ar))  "
   ]
  },
  {
   "cell_type": "code",
   "execution_count": null,
   "id": "1141d91e-5fa2-4773-aedd-6aa63eb140f9",
   "metadata": {},
   "outputs": [],
   "source": []
  }
 ],
 "metadata": {
  "kernelspec": {
   "display_name": "Python 3 (ipykernel)",
   "language": "python",
   "name": "python3"
  },
  "language_info": {
   "codemirror_mode": {
    "name": "ipython",
    "version": 3
   },
   "file_extension": ".py",
   "mimetype": "text/x-python",
   "name": "python",
   "nbconvert_exporter": "python",
   "pygments_lexer": "ipython3",
   "version": "3.11.7"
  }
 },
 "nbformat": 4,
 "nbformat_minor": 5
}
